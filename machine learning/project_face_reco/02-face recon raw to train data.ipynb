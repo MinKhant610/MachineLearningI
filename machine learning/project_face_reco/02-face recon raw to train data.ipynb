{
 "cells": [
  {
   "cell_type": "code",
   "execution_count": 1,
   "id": "4ca0f477",
   "metadata": {},
   "outputs": [
    {
     "name": "stderr",
     "output_type": "stream",
     "text": [
      "[ WARN:0@0.015] global /private/var/folders/k1/30mswbxs7r1g6zwn8y4fyt500000gp/T/abs_11nitadzeg/croot/opencv-suite_1691620374638/work/modules/videoio/src/cap_gstreamer.cpp (862) isPipelinePlaying OpenCV | GStreamer warning: GStreamer: pipeline have not been created\n"
     ]
    },
    {
     "name": "stdout",
     "output_type": "stream",
     "text": [
      "Enter your name Min Khant\n"
     ]
    }
   ],
   "source": [
    "import cv2 as cv\n",
    "import numpy as np \n",
    "\n",
    "cap = cv.VideoCapture(0)\n",
    "face_cascade = cv.CascadeClassifier('./haarcascade_frontalface_alt.xml')\n",
    "face_section = np.zeros((100, 100), dtype='uint8')\n",
    "face_data = []\n",
    "\n",
    "name = input(\"Enter your name \")\n",
    "\n",
    "skip = 0 \n",
    "\n",
    "\n",
    "while True:\n",
    "    ret, frame = cap.read()\n",
    "    \n",
    "    if ret == False:\n",
    "        continue \n",
    "        \n",
    "    gray = cv.cvtColor(frame, cv.COLOR_BGR2GRAY)\n",
    "    faces = face_cascade.detectMultiScale(gray, 1.3, 5)\n",
    "    faces = sorted(faces, key=lambda f:f[2]*f[3])\n",
    "    \n",
    "    for face in faces[-1 : ]:\n",
    "        x, y, w, h = face \n",
    "        face_section = gray[y : y+h , x : x+w]\n",
    "        face_section = cv.resize(face_section, (100, 100))\n",
    "        cv.putText(frame, name, (x, y-30), cv.FONT_HERSHEY_SIMPLEX, 1, (255, 0, 0), 2, cv.LINE_AA)\n",
    "        cv.rectangle(frame, (x,y), (x+w, y+h), (0, 255, 0))\n",
    "    \n",
    "    cv.imshow('Camera ', frame)\n",
    "    \n",
    "    if skip%10 == 0:\n",
    "        face_data.append(face_section)\n",
    "    skip += 1 \n",
    "    \n",
    "    key = cv.waitKey(1)\n",
    "    \n",
    "    if key == 27:\n",
    "        break\n",
    "face_data = np.asarray(face_data)\n",
    "face_data = face_data.reshape((face_data.shape[0], -1))\n",
    "np.save('./' + name + '.npy', face_data)\n",
    "\n",
    "cap.release()\n",
    "cv.destroyAllWindows()"
   ]
  },
  {
   "cell_type": "code",
   "execution_count": null,
   "id": "1068b374",
   "metadata": {},
   "outputs": [],
   "source": []
  }
 ],
 "metadata": {
  "kernelspec": {
   "display_name": "Python 3 (ipykernel)",
   "language": "python",
   "name": "python3"
  },
  "language_info": {
   "codemirror_mode": {
    "name": "ipython",
    "version": 3
   },
   "file_extension": ".py",
   "mimetype": "text/x-python",
   "name": "python",
   "nbconvert_exporter": "python",
   "pygments_lexer": "ipython3",
   "version": "3.11.8"
  }
 },
 "nbformat": 4,
 "nbformat_minor": 5
}
