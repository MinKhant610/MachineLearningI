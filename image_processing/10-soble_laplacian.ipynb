{
 "cells": [
  {
   "cell_type": "code",
   "execution_count": null,
   "id": "a42e8831",
   "metadata": {},
   "outputs": [],
   "source": [
    "import cv2 as cv \n",
    "import matplotlib.pyplot as plt\n",
    "import numpy as np \n",
    "\n",
    "def main():\n",
    "    img = cv.imread('images/dave.jpg')\n",
    "    \n",
    "    sobelx = cv.Sobel(img, -1, 1, 0, ksize=5)\n",
    "    sobely = cv.Sobel(img, -1, 0, 1, ksize=5)\n",
    "    sh = np.array( ( [0, -1, 0], [-1, 5, -1], [0, -1, 0]) , np.float32)\n",
    "\n",
    "    sharping = cv.filter2D(img, -1, sh)\n",
    "    laplacian = cv.Laplacian(img, -1)\n",
    "    \n",
    "\n",
    "    \n",
    "    while True:\n",
    "        cv.imshow('original', img)\n",
    "        cv.imshow('soblex', sobelx)\n",
    "        cv.imshow('sobley', sobely)\n",
    "        cv.imshow('laplacain', laplacian)\n",
    "        cv.imshow('sharping', sharping)\n",
    "        \n",
    "        if cv.waitKey(10) == 27:\n",
    "            break \n",
    "    \n",
    "    cv.destroyAllWindows()\n",
    "    \n",
    "    \n",
    "if __name__ == '__main__':\n",
    "    main()"
   ]
  },
  {
   "cell_type": "code",
   "execution_count": null,
   "id": "82126f82",
   "metadata": {},
   "outputs": [],
   "source": []
  }
 ],
 "metadata": {
  "kernelspec": {
   "display_name": "Python 3 (ipykernel)",
   "language": "python",
   "name": "python3"
  },
  "language_info": {
   "codemirror_mode": {
    "name": "ipython",
    "version": 3
   },
   "file_extension": ".py",
   "mimetype": "text/x-python",
   "name": "python",
   "nbconvert_exporter": "python",
   "pygments_lexer": "ipython3",
   "version": "3.11.8"
  }
 },
 "nbformat": 4,
 "nbformat_minor": 5
}
