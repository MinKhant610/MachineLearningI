{
 "cells": [
  {
   "cell_type": "markdown",
   "id": "eaa9d7b2",
   "metadata": {
    "heading_collapsed": true
   },
   "source": [
    "# Drawing Line in image\n",
    "\n",
    "## cv.line(start, end, color, thickness)"
   ]
  },
  {
   "cell_type": "code",
   "execution_count": null,
   "id": "6fc71bc9",
   "metadata": {
    "hidden": true
   },
   "outputs": [],
   "source": [
    "import cv2 as cv\n",
    "import numpy as np\n",
    "\n",
    "\n",
    "def main():\n",
    "    img = np.zeros((512, 512, 3), np.uint8)\n",
    "    cv.line(img, (20, 20), (20, 100), (0, 0, 255), 2)\n",
    "    cv.imshow('blank', img)\n",
    "\n",
    "    cv.waitKey(0)\n",
    "\n",
    "    cv.destroyAllWindows()\n",
    "\n",
    "\n",
    "if __name__ == '__main__':\n",
    "    main()"
   ]
  },
  {
   "cell_type": "markdown",
   "id": "0e43b86d",
   "metadata": {},
   "source": [
    "# Drwing shape"
   ]
  },
  {
   "cell_type": "code",
   "execution_count": null,
   "id": "824e10ab",
   "metadata": {},
   "outputs": [],
   "source": [
    "import numpy as np\n",
    "import cv2 as cv \n",
    "\n",
    "def main():\n",
    "    img = np.zeros((512, 512, 3), np.uint8)\n",
    "    cv.rectangle(img, (80, 60), (200, 200), (255, 0, 0,), 2)\n",
    "    cv.circle(img, (300, 300), 50, (0, 255, 0), -1)\n",
    "    cv.ellipse(img, (230, 230), (50, 20), 0, 0, 360, (0, 0, 255), -1)\n",
    "    points = np.array([ [20,30], [40, 60], [70, 80] ])\n",
    "    cv.polylines(img, [points], True, (255, 0, 255))\n",
    "    cv.putText(img, \"Min Khant\", (100, 400), cv.FONT_HERSHEY_SIMPLEX, 1.2, (255, 255, 255))\n",
    "    \n",
    "    \n",
    "    cv.imshow('Shape', img)\n",
    "    cv.waitKey(0)\n",
    "    cv.destroyAllWindows()\n",
    "\n",
    "\n",
    "if __name__ == '__main__':\n",
    "    main()\n"
   ]
  },
  {
   "cell_type": "code",
   "execution_count": null,
   "id": "b55a72fb",
   "metadata": {},
   "outputs": [],
   "source": []
  }
 ],
 "metadata": {
  "kernelspec": {
   "display_name": "Python 3 (ipykernel)",
   "language": "python",
   "name": "python3"
  },
  "language_info": {
   "codemirror_mode": {
    "name": "ipython",
    "version": 3
   },
   "file_extension": ".py",
   "mimetype": "text/x-python",
   "name": "python",
   "nbconvert_exporter": "python",
   "pygments_lexer": "ipython3",
   "version": "3.11.8"
  }
 },
 "nbformat": 4,
 "nbformat_minor": 5
}
