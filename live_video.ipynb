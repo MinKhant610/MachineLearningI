{
 "cells": [
  {
   "cell_type": "code",
   "execution_count": null,
   "id": "47335b88",
   "metadata": {},
   "outputs": [
    {
     "name": "stderr",
     "output_type": "stream",
     "text": [
      "[ WARN:0@0.012] global /private/var/folders/k1/30mswbxs7r1g6zwn8y4fyt500000gp/T/abs_11nitadzeg/croot/opencv-suite_1691620374638/work/modules/videoio/src/cap_gstreamer.cpp (862) isPipelinePlaying OpenCV | GStreamer warning: GStreamer: pipeline have not been created\n"
     ]
    },
    {
     "name": "stdout",
     "output_type": "stream",
     "text": [
      "Width1280.0\n",
      "Height720.0\n"
     ]
    }
   ],
   "source": [
    "import cv2 as cv \n",
    "\n",
    "def main():\n",
    "    cap = cv.VideoCapture(0)\n",
    "    \n",
    "    print('Width' + str(cap.get(3)))\n",
    "    print('Height' + str(cap.get(4)))\n",
    "    \n",
    "    cap.set(3, 1280)\n",
    "    cap.set(4, 720)\n",
    "    \n",
    "    if cap.isOpened():\n",
    "        ret, frame = cap.read()\n",
    "    else :\n",
    "        ret = False\n",
    "        \n",
    "    while (ret):\n",
    "        ret, frame = cap.read()\n",
    "        cv.imshow('Live Video', frame)\n",
    "        if cv.waitKey(1) == 27:\n",
    "            break\n",
    "        \n",
    "    cap.release()\n",
    "    cv.destroyAllWindows()\n",
    "\n",
    "if __name__ == '__main__':\n",
    "    main()"
   ]
  },
  {
   "cell_type": "code",
   "execution_count": null,
   "id": "adf5cf45",
   "metadata": {},
   "outputs": [],
   "source": []
  }
 ],
 "metadata": {
  "kernelspec": {
   "display_name": "Python 3 (ipykernel)",
   "language": "python",
   "name": "python3"
  },
  "language_info": {
   "codemirror_mode": {
    "name": "ipython",
    "version": 3
   },
   "file_extension": ".py",
   "mimetype": "text/x-python",
   "name": "python",
   "nbconvert_exporter": "python",
   "pygments_lexer": "ipython3",
   "version": "3.11.8"
  }
 },
 "nbformat": 4,
 "nbformat_minor": 5
}
