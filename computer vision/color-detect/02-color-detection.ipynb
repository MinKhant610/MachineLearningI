{
 "cells": [
  {
   "cell_type": "code",
   "execution_count": null,
   "id": "a25984b6",
   "metadata": {},
   "outputs": [],
   "source": [
    "import cv2 as cv \n",
    "import numpy as np \n",
    "\n",
    "def main():\n",
    "    img1 = cv.imread('test/01.jpg')\n",
    "    img2 = cv.imread('test/02.jpg')\n",
    "    img3 = cv.imread('test/03.jpg')\n",
    "    img4 = cv.imread('test/04.jpg')\n",
    "    img5 = cv.imread('test/05.jpg')\n",
    "    img6 = cv.imread('test/06.jpg')\n",
    "    img7 = cv.imread('test/07.jpg')\n",
    "    img8 = cv.imread('test/08.jpg')\n",
    "    img9 = cv.imread('test/09.jpg')\n",
    "    \n",
    "    images = [img1, img2, img3, img4, img5, img6, img7, img8, img9]\n",
    "    titles = ['img1', 'img2', 'img3', 'img4', 'img5', 'img6', 'img7', 'img8', 'img9']\n",
    "    texts = [] \n",
    "    \n",
    "    for i in range(len(images)):\n",
    "        (r, g, b) = cv.split(images[i])\n",
    "        \n",
    "        r_mean = np.average(r)\n",
    "        g_mean = np.average(g)\n",
    "        b_mean = np.average(b)\n",
    "        \n",
    "        if (r_mean > g_mean and r_mean > b_mean and b_mean > g_mean):\n",
    "            texts.append('red')\n",
    "        elif (g_mean > r_mean and g_mean > b_mean):\n",
    "            texts.append('green')\n",
    "        elif (b_mean > r_mean and b_mean > g_mean):\n",
    "            texts.append('blue')\n",
    "        elif (g_mean > b_mean and r_mean > b_mean):\n",
    "            texts.append('green')\n",
    "        else:\n",
    "            texts.append('unknow')\n",
    "        \n",
    "    while True:\n",
    "        for i in range(len(images)):\n",
    "            cv.imshow(titles[i], images[i])\n",
    "            cv.putText(images[i], texts[i], (100, 100), cv.FONT_HERSHEY_SIMPLEX, 2, (0, 0, 0))\n",
    "        \n",
    "        if cv.waitKey(10) == 27:\n",
    "            break \n",
    "    print('len :', len(images))\n",
    "    cv.destroyAllWindows()\n",
    "\n",
    "if __name__ == '__main__':\n",
    "    main()"
   ]
  },
  {
   "cell_type": "code",
   "execution_count": null,
   "id": "2124b70e",
   "metadata": {},
   "outputs": [],
   "source": []
  }
 ],
 "metadata": {
  "kernelspec": {
   "display_name": "Python 3 (ipykernel)",
   "language": "python",
   "name": "python3"
  },
  "language_info": {
   "codemirror_mode": {
    "name": "ipython",
    "version": 3
   },
   "file_extension": ".py",
   "mimetype": "text/x-python",
   "name": "python",
   "nbconvert_exporter": "python",
   "pygments_lexer": "ipython3",
   "version": "3.11.8"
  }
 },
 "nbformat": 4,
 "nbformat_minor": 5
}
