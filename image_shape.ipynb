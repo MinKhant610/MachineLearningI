{
 "cells": [
  {
   "cell_type": "code",
   "execution_count": 6,
   "id": "9c5d4f05",
   "metadata": {},
   "outputs": [
    {
     "name": "stdout",
     "output_type": "stream",
     "text": [
      "for image1\n",
      "3\n",
      "(512, 512, 3)\n",
      "786432\n",
      "uint8\n",
      "for image2 \n",
      "2\n",
      "(512, 512)\n",
      "262144\n",
      "uint8\n"
     ]
    }
   ],
   "source": [
    "import cv2 as cv\n",
    "\n",
    "\n",
    "def main():\n",
    "    img1 = cv.imread('images/lena_color_512.tif', 1)\n",
    "    img2 = cv.imread('images/lena_color_512.tif', 0)\n",
    "    \n",
    "    print('for image1')\n",
    "    print(img1.ndim)\n",
    "    print(img1.shape)\n",
    "    print(img1.size)\n",
    "    print(img1.dtype)\n",
    "    \n",
    "    print(\"for image2 \")\n",
    "    print(img2.ndim)\n",
    "    print(img2.shape)\n",
    "    print(img2.size)\n",
    "    print(img2.dtype)\n",
    "    \n",
    "if __name__ == '__main__':\n",
    "    main()"
   ]
  },
  {
   "cell_type": "code",
   "execution_count": null,
   "id": "359c00b8",
   "metadata": {},
   "outputs": [],
   "source": []
  }
 ],
 "metadata": {
  "kernelspec": {
   "display_name": "Python 3 (ipykernel)",
   "language": "python",
   "name": "python3"
  },
  "language_info": {
   "codemirror_mode": {
    "name": "ipython",
    "version": 3
   },
   "file_extension": ".py",
   "mimetype": "text/x-python",
   "name": "python",
   "nbconvert_exporter": "python",
   "pygments_lexer": "ipython3",
   "version": "3.11.8"
  }
 },
 "nbformat": 4,
 "nbformat_minor": 5
}
