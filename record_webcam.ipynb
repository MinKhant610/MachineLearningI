{
 "cells": [
  {
   "cell_type": "code",
   "execution_count": null,
   "id": "9151895d",
   "metadata": {},
   "outputs": [
    {
     "name": "stderr",
     "output_type": "stream",
     "text": [
      "[ WARN:0@0.015] global /private/var/folders/k1/30mswbxs7r1g6zwn8y4fyt500000gp/T/abs_11nitadzeg/croot/opencv-suite_1691620374638/work/modules/videoio/src/cap_gstreamer.cpp (862) isPipelinePlaying OpenCV | GStreamer warning: GStreamer: pipeline have not been created\n",
      "[ WARN:0@1.664] global /private/var/folders/k1/30mswbxs7r1g6zwn8y4fyt500000gp/T/abs_11nitadzeg/croot/opencv-suite_1691620374638/work/modules/videoio/src/cap_gstreamer.cpp (2180) open OpenCV | GStreamer warning: cannot link elements\n",
      "[ERROR:0@1.671] global /private/var/folders/k1/30mswbxs7r1g6zwn8y4fyt500000gp/T/abs_11nitadzeg/croot/opencv-suite_1691620374638/work/modules/videoio/src/cap.cpp (597) open VIDEOIO(CV_IMAGES): raised OpenCV exception:\n",
      "\n",
      "OpenCV(4.6.0) /private/var/folders/k1/30mswbxs7r1g6zwn8y4fyt500000gp/T/abs_11nitadzeg/croot/opencv-suite_1691620374638/work/modules/videoio/src/cap_images.cpp:253: error: (-5:Bad argument) CAP_IMAGES: can't find starting number (in the name of file): output.avi in function 'icvExtractPattern'\n",
      "\n",
      "\n"
     ]
    }
   ],
   "source": [
    "import cv2 as cv\n",
    "\n",
    "def main():\n",
    "    \n",
    "    cap = cv.VideoCapture(0)\n",
    "    \n",
    "    window_name = \"Live Video\"\n",
    "    cv.namedWindow(window_name)\n",
    "    \n",
    "    filename = \"output.avi\"\n",
    "    codec = cv.VideoWriter_fourcc(*'H264')\n",
    "    \n",
    "    frame_rate = 30\n",
    "    resolution = (640,480)\n",
    "    \n",
    "    videoFileOutput = cv.VideoWriter( filename, codec, frame_rate,resolution)\n",
    "    \n",
    "    if cap.isOpened():\n",
    "        ret,frame = cap.read()\n",
    "    else:\n",
    "        ret = False\n",
    "        \n",
    "    while(ret):\n",
    "        ret,frame = cap.read()\n",
    "        \n",
    "        videoFileOutput.write(frame)\n",
    "        \n",
    "        cv.imshow(window_name,frame)        \n",
    "        \n",
    "        k = cv.waitKey(1)\n",
    "        if k == 27:\n",
    "            break\n",
    "            \n",
    "    cv.destroyAllWindows()\n",
    "    videoFileOutput.release()\n",
    "    cap.release()\n",
    "\n",
    "\n",
    "\n",
    "if __name__ == \"__main__\":\n",
    "    main()"
   ]
  },
  {
   "cell_type": "code",
   "execution_count": null,
   "id": "b8d0053e",
   "metadata": {},
   "outputs": [],
   "source": []
  }
 ],
 "metadata": {
  "kernelspec": {
   "display_name": "Python 3 (ipykernel)",
   "language": "python",
   "name": "python3"
  },
  "language_info": {
   "codemirror_mode": {
    "name": "ipython",
    "version": 3
   },
   "file_extension": ".py",
   "mimetype": "text/x-python",
   "name": "python",
   "nbconvert_exporter": "python",
   "pygments_lexer": "ipython3",
   "version": "3.11.8"
  }
 },
 "nbformat": 4,
 "nbformat_minor": 5
}
