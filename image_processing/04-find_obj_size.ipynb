{
 "cells": [
  {
   "cell_type": "code",
   "execution_count": 10,
   "id": "efe19414",
   "metadata": {},
   "outputs": [
    {
     "name": "stdout",
     "output_type": "stream",
     "text": [
      "total size : 262144\n",
      "out1 size [[0 0 0 ... 1 1 1]\n",
      " [0 0 0 ... 1 1 1]\n",
      " [0 0 0 ... 1 1 1]\n",
      " ...\n",
      " [0 0 0 ... 1 1 1]\n",
      " [0 0 0 ... 1 1 1]\n",
      " [0 0 0 ... 1 1 1]]\n",
      "white size 162109.0\n",
      "object_size :  100035.0\n"
     ]
    },
    {
     "data": {
      "image/png": "[encoded data removed]",
      "text/plain": [
       "<Figure size 640x480 with 2 Axes>"
      ]
     },
     "metadata": {},
     "output_type": "display_data"
    }
   ],
   "source": [
    "import cv2 as cv \n",
    "import matplotlib.pyplot as plt \n",
    "\n",
    "def main():\n",
    "    img = cv.imread('images/gray21.512.tiff')\n",
    "    img = cv.cvtColor(img, cv.COLOR_BGR2GRAY)\n",
    "    \n",
    "    w, h = img.shape\n",
    "    total = w*h\n",
    "    print ('total size :', total)\n",
    "    \n",
    "    th = 100\n",
    "    max_val = 1\n",
    "    \n",
    "    ret, out1 = cv.threshold(img, th, max_val, cv.THRESH_BINARY)\n",
    "    \n",
    "    print ('out1 size', out1)\n",
    "    \n",
    "    white_size = cv.sumElems(out1)\n",
    "    print('white size', white_size[0])\n",
    "    \n",
    "    object_size = total - white_size[0]\n",
    "    \n",
    "    print ('object_size : ', object_size)\n",
    "    \n",
    "    images = [img, out1]\n",
    "    titles = ['original', 'bin']\n",
    "    \n",
    "    for i in range (len(images)) :\n",
    "        plt.subplot(1, 2, i+1)\n",
    "        plt.imshow(images[i], cmap='gray')\n",
    "        plt.xticks([])\n",
    "        plt.yticks([])\n",
    "        plt.title(titles[i])\n",
    "        \n",
    "    plt.show()\n",
    "    \n",
    "    \n",
    "if __name__ == '__main__':\n",
    "    main()"
   ]
  },
  {
   "cell_type": "code",
   "execution_count": null,
   "id": "c76599ca",
   "metadata": {},
   "outputs": [],
   "source": []
  }
 ],
 "metadata": {
  "kernelspec": {
   "display_name": "Python 3 (ipykernel)",
   "language": "python",
   "name": "python3"
  },
  "language_info": {
   "codemirror_mode": {
    "name": "ipython",
    "version": 3
   },
   "file_extension": ".py",
   "mimetype": "text/x-python",
   "name": "python",
   "nbconvert_exporter": "python",
   "pygments_lexer": "ipython3",
   "version": "3.11.8"
  }
 },
 "nbformat": 4,
 "nbformat_minor": 5
}
