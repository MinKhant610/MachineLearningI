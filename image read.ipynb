{
 "cells": [
  {
   "cell_type": "code",
   "execution_count": null,
   "id": "d678a18c",
   "metadata": {},
   "outputs": [],
   "source": [
    "import cv2 as cv\n",
    "\n",
    "img1 = cv.imread('images/lena_color_512.tif', 1)\n",
    "img2 = cv.imread('images/lena_color_512.tif', 0)\n",
    "img3 = cv.imread('images/lena_color_512.tif', -1)\n",
    "\n",
    "cv.imshow('Lena_color', img1)\n",
    "cv.imshow('Lena_gray', img2)\n",
    "cv.imshow('Lena_no_change', img3)\n",
    "\n",
    "cv.imwrite('black_n_white.jpg', img2)\n",
    "\n",
    "cv.waitKey(0)\n",
    "cv.destroyAllWindows()"
   ]
  },
  {
   "cell_type": "code",
   "execution_count": null,
   "id": "3f5a4c81",
   "metadata": {},
   "outputs": [],
   "source": []
  }
 ],
 "metadata": {
  "kernelspec": {
   "display_name": "Python 3 (ipykernel)",
   "language": "python",
   "name": "python3"
  },
  "language_info": {
   "codemirror_mode": {
    "name": "ipython",
    "version": 3
   },
   "file_extension": ".py",
   "mimetype": "text/x-python",
   "name": "python",
   "nbconvert_exporter": "python",
   "pygments_lexer": "ipython3",
   "version": "3.11.8"
  }
 },
 "nbformat": 4,
 "nbformat_minor": 5
}
