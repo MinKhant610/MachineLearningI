{
 "cells": [
  {
   "cell_type": "code",
   "execution_count": 1,
   "id": "2092f307",
   "metadata": {},
   "outputs": [
    {
     "name": "stderr",
     "output_type": "stream",
     "text": [
      "[ WARN:0@0.018] global /private/var/folders/k1/30mswbxs7r1g6zwn8y4fyt500000gp/T/abs_11nitadzeg/croot/opencv-suite_1691620374638/work/modules/videoio/src/cap_gstreamer.cpp (862) isPipelinePlaying OpenCV | GStreamer warning: GStreamer: pipeline have not been created\n"
     ]
    },
    {
     "ename": "ValueError",
     "evalue": "setting an array element with a sequence. The requested array has an inhomogeneous shape after 2 dimensions. The detected shape was (5, 2) + inhomogeneous part.",
     "output_type": "error",
     "traceback": [
      "\u001b[0;31m---------------------------------------------------------------------------\u001b[0m",
      "\u001b[0;31mValueError\u001b[0m                                Traceback (most recent call last)",
      "Cell \u001b[0;32mIn[1], line 66\u001b[0m\n\u001b[1;32m     64\u001b[0m face_section \u001b[38;5;241m=\u001b[39m gray[y: y \u001b[38;5;241m+\u001b[39m h, x: x \u001b[38;5;241m+\u001b[39m w]\n\u001b[1;32m     65\u001b[0m face_section \u001b[38;5;241m=\u001b[39m cv\u001b[38;5;241m.\u001b[39mresize(face_section, (\u001b[38;5;241m100\u001b[39m, \u001b[38;5;241m100\u001b[39m))\n\u001b[0;32m---> 66\u001b[0m predict \u001b[38;5;241m=\u001b[39m knn(face_data_set, face_labels, face_section)\n\u001b[1;32m     67\u001b[0m predict_name \u001b[38;5;241m=\u001b[39m name[\u001b[38;5;28mint\u001b[39m(predict)]\n\u001b[1;32m     68\u001b[0m cv\u001b[38;5;241m.\u001b[39mputText(frame, predict_name, (x, y \u001b[38;5;241m-\u001b[39m \u001b[38;5;241m30\u001b[39m), cv\u001b[38;5;241m.\u001b[39mFONT_HERSHEY_SIMPLEX,\n\u001b[1;32m     69\u001b[0m            \u001b[38;5;241m1\u001b[39m, (\u001b[38;5;241m255\u001b[39m, \u001b[38;5;241m0\u001b[39m, \u001b[38;5;241m0\u001b[39m), \u001b[38;5;241m2\u001b[39m, cv\u001b[38;5;241m.\u001b[39mLINE_AA)\n",
      "Cell \u001b[0;32mIn[1], line 31\u001b[0m, in \u001b[0;36mknn\u001b[0;34m(X, Y, x, K)\u001b[0m\n\u001b[1;32m     28\u001b[0m     val\u001b[38;5;241m.\u001b[39mappend((dist, Y[i]))\n\u001b[1;32m     30\u001b[0m val \u001b[38;5;241m=\u001b[39m \u001b[38;5;28msorted\u001b[39m(val, key\u001b[38;5;241m=\u001b[39m\u001b[38;5;28;01mlambda\u001b[39;00m x: x[\u001b[38;5;241m0\u001b[39m])[:K]\n\u001b[0;32m---> 31\u001b[0m val \u001b[38;5;241m=\u001b[39m np\u001b[38;5;241m.\u001b[39masarray(val)\n\u001b[1;32m     33\u001b[0m new_vals \u001b[38;5;241m=\u001b[39m np\u001b[38;5;241m.\u001b[39munique(val[:, \u001b[38;5;241m1\u001b[39m], return_counts\u001b[38;5;241m=\u001b[39m\u001b[38;5;28;01mTrue\u001b[39;00m)\n\u001b[1;32m     34\u001b[0m index \u001b[38;5;241m=\u001b[39m new_vals[\u001b[38;5;241m1\u001b[39m]\u001b[38;5;241m.\u001b[39margmax()\n",
      "\u001b[0;31mValueError\u001b[0m: setting an array element with a sequence. The requested array has an inhomogeneous shape after 2 dimensions. The detected shape was (5, 2) + inhomogeneous part."
     ]
    }
   ],
   "source": [
    "import numpy as np\n",
    "import cv2 as cv\n",
    "import os\n",
    "\n",
    "cap = cv.VideoCapture(0)\n",
    "path = './haarcascade_frontalface_alt.xml'\n",
    "face_cascade = cv.CascadeClassifier(path)\n",
    "data_path = './data/'\n",
    "\n",
    "face_data = []\n",
    "labels = []\n",
    "name = {}\n",
    "class_id = 0\n",
    "\n",
    "def distance(x, X):\n",
    "    return np.sqrt(np.sum((x - X) ** 2))\n",
    "\n",
    "def knn(X, Y, x, K=5):\n",
    "    m = X.shape[0]\n",
    "    x = x.flatten()\n",
    "    val = []\n",
    "    for i in range(m):\n",
    "        xi = X[i].flatten()\n",
    "        dist = distance(x, xi)\n",
    "        val.append((dist, Y[i][0])) \n",
    "    \n",
    "    val = sorted(val, key=lambda x: x[0])[:K]\n",
    "\n",
    "    print(\"val array:\", val)\n",
    "    \n",
    "    val = np.asarray(val)\n",
    "    new_vals = np.unique(val[:, 1], return_counts=True)\n",
    "    index = new_vals[1].argmax()\n",
    "    output = new_vals[0][index]\n",
    "\n",
    "    return output\n",
    "\n",
    "for file in os.listdir(data_path):\n",
    "    if file.endswith(\".npy\"):\n",
    "        data_item = np.load(os.path.join(data_path, file))\n",
    "        face_data.append(data_item)\n",
    "        name[class_id] = file[:-4]\n",
    "        target = class_id * np.ones((data_item.shape[0],), dtype=int)\n",
    "        class_id += 1\n",
    "        labels.append(target)\n",
    "\n",
    "face_data_set = np.concatenate(face_data, axis=0)\n",
    "face_labels = np.concatenate(labels, axis=0).reshape(-1, 1)\n",
    "\n",
    "print(\"Face data set shape:\", face_data_set.shape)\n",
    "print(\"Face labels shape:\", face_labels.shape)\n",
    "\n",
    "while True:\n",
    "    ret, frame = cap.read()\n",
    "\n",
    "    if not ret:\n",
    "        continue\n",
    "\n",
    "    gray = cv.cvtColor(frame, cv.COLOR_BGR2GRAY)\n",
    "    faces = face_cascade.detectMultiScale(gray, 1.3, 5)\n",
    "    faces = sorted(faces, key=lambda f: f[2] * f[3])\n",
    "\n",
    "    for face in faces[-1:]:\n",
    "        x, y, w, h = face\n",
    "        face_section = gray[y:y + h, x:x + w]\n",
    "        face_section = cv.resize(face_section, (100, 100))\n",
    "\n",
    "        predict = knn(face_data_set, face_labels, face_section)\n",
    "        predict_name = name[int(predict)]\n",
    "        cv.putText(frame, predict_name, (x, y - 30), cv.FONT_HERSHEY_SIMPLEX,\n",
    "                   1, (255, 0, 0), 2, cv.LINE_AA)\n",
    "        cv.rectangle(frame, (x, y), (x + w, y + h), (0, 255, 0))\n",
    "\n",
    "    cv.imshow('Camera', frame)\n",
    "\n",
    "    key = cv.waitKey(1)\n",
    "\n",
    "    if key == 27:\n",
    "        break\n",
    "\n",
    "cap.release()\n",
    "cv.destroyAllWindows()\n"
   ]
  },
  {
   "cell_type": "code",
   "execution_count": null,
   "id": "f3e707e7",
   "metadata": {},
   "outputs": [],
   "source": []
  }
 ],
 "metadata": {
  "kernelspec": {
   "display_name": "Python 3 (ipykernel)",
   "language": "python",
   "name": "python3"
  },
  "language_info": {
   "codemirror_mode": {
    "name": "ipython",
    "version": 3
   },
   "file_extension": ".py",
   "mimetype": "text/x-python",
   "name": "python",
   "nbconvert_exporter": "python",
   "pygments_lexer": "ipython3",
   "version": "3.11.8"
  }
 },
 "nbformat": 4,
 "nbformat_minor": 5
}
