{
 "cells": [
  {
   "cell_type": "code",
   "execution_count": null,
   "id": "d69cc458",
   "metadata": {},
   "outputs": [],
   "source": [
    "import cv2 as cv\n",
    "\n",
    "import numpy as np\n",
    "import time\n",
    "\n",
    "\n",
    "def main():\n",
    "    img1 = cv.imread('images/lena_color_512.tif')\n",
    "    img2 = cv.imread('images/house.tif')\n",
    "\n",
    "    # alpha + beta must be 1\n",
    "    alpha = 0.0\n",
    "    beta = 1.0\n",
    "    gamma = 0.05\n",
    "\n",
    "    for i in np.linspace(0, 1, 100):\n",
    "        alpha = i\n",
    "        beta = 1 - i\n",
    "        output = cv.addWeighted(img1, alpha, img2, beta, gamma)\n",
    "        cv.imshow('transition', output)\n",
    "        \n",
    "        time.sleep(0.05)\n",
    "        if cv.waitKey(1) == 27:\n",
    "            break\n",
    "            \n",
    "    cv.destroyAllWindows()\n",
    "\n",
    "\n",
    "if __name__ == '__main__':\n",
    "    main()"
   ]
  },
  {
   "cell_type": "code",
   "execution_count": null,
   "id": "e0e997f3",
   "metadata": {},
   "outputs": [],
   "source": []
  }
 ],
 "metadata": {
  "kernelspec": {
   "display_name": "Python 3 (ipykernel)",
   "language": "python",
   "name": "python3"
  },
  "language_info": {
   "codemirror_mode": {
    "name": "ipython",
    "version": 3
   },
   "file_extension": ".py",
   "mimetype": "text/x-python",
   "name": "python",
   "nbconvert_exporter": "python",
   "pygments_lexer": "ipython3",
   "version": "3.11.8"
  }
 },
 "nbformat": 4,
 "nbformat_minor": 5
}
