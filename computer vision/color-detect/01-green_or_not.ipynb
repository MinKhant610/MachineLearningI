{
 "cells": [
  {
   "cell_type": "code",
   "execution_count": null,
   "id": "52de68eb",
   "metadata": {},
   "outputs": [
    {
     "name": "stdout",
     "output_type": "stream",
     "text": [
      "green\n"
     ]
    }
   ],
   "source": [
    "import cv2 as cv \n",
    "import numpy as np \n",
    "\n",
    "def main():\n",
    "    img = cv.imread('test/01.jpg')\n",
    "    \n",
    "    (r, g, b) = cv.split(img)\n",
    "    \n",
    "    r_mean = np.average(r)\n",
    "    g_mean = np.average(g)\n",
    "    b_mean = np.average(b)\n",
    "    \n",
    "    if (g_mean > r_mean and g_mean > b_mean):\n",
    "        print ('green')\n",
    "    else :\n",
    "        print('unknow')\n",
    "        \n",
    "    img2 = cv.merge((b, g, r))\n",
    "    \n",
    "    while True:\n",
    "        cv.imshow('color', img)\n",
    "        cv.imshow('img1', img2)\n",
    "        \n",
    "        if cv.waitKey(0) == 27:\n",
    "            break \n",
    "    cv.destroyAllWindows()\n",
    "\n",
    "if __name__ == '__main__':\n",
    "    main()"
   ]
  },
  {
   "cell_type": "code",
   "execution_count": null,
   "id": "e6fc5514",
   "metadata": {},
   "outputs": [],
   "source": []
  }
 ],
 "metadata": {
  "kernelspec": {
   "display_name": "Python 3 (ipykernel)",
   "language": "python",
   "name": "python3"
  },
  "language_info": {
   "codemirror_mode": {
    "name": "ipython",
    "version": 3
   },
   "file_extension": ".py",
   "mimetype": "text/x-python",
   "name": "python",
   "nbconvert_exporter": "python",
   "pygments_lexer": "ipython3",
   "version": "3.11.8"
  }
 },
 "nbformat": 4,
 "nbformat_minor": 5
}
