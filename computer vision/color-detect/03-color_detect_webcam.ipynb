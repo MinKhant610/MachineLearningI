{
 "cells": [
  {
   "cell_type": "code",
   "execution_count": null,
   "id": "7987f1d8",
   "metadata": {},
   "outputs": [
    {
     "name": "stderr",
     "output_type": "stream",
     "text": [
      "[ WARN:0@0.013] global /private/var/folders/k1/30mswbxs7r1g6zwn8y4fyt500000gp/T/abs_11nitadzeg/croot/opencv-suite_1691620374638/work/modules/videoio/src/cap_gstreamer.cpp (862) isPipelinePlaying OpenCV | GStreamer warning: GStreamer: pipeline have not been created\n"
     ]
    }
   ],
   "source": [
    "import cv2 as cv \n",
    "import numpy as np \n",
    "\n",
    "def main():\n",
    "    cap = cv.VideoCapture(0)\n",
    "    \n",
    "    cap.set(3, 480)\n",
    "    cap.set(4, 480)\n",
    "    \n",
    "    while cap.isOpened():\n",
    "        ret, frame = cap.read()\n",
    "        \n",
    "        hsv = cv.cvtColor(frame, cv.COLOR_BGR2HSV)\n",
    "        \n",
    "        low = np.array([100, 200, 200])\n",
    "        high = np.array([250, 255, 255])\n",
    "        \n",
    "        img_mask = cv.inRange(hsv, low, high)\n",
    "        \n",
    "        res = cv.bitwise_and(frame, frame, mask=img_mask)\n",
    "        \n",
    "        cv.imshow('live', frame)\n",
    "        cv.imshow('mask', img_mask)\n",
    "        cv.imshow('result', res)\n",
    "        \n",
    "        \n",
    "        if cv.waitKey(33) == 27:\n",
    "            break \n",
    "    cap.release()\n",
    "    cv.destroyAllWindows()\n",
    "\n",
    "if __name__ == '__main__':\n",
    "    main()"
   ]
  },
  {
   "cell_type": "code",
   "execution_count": null,
   "id": "8d8d76ec",
   "metadata": {},
   "outputs": [],
   "source": []
  }
 ],
 "metadata": {
  "kernelspec": {
   "display_name": "Python 3 (ipykernel)",
   "language": "python",
   "name": "python3"
  },
  "language_info": {
   "codemirror_mode": {
    "name": "ipython",
    "version": 3
   },
   "file_extension": ".py",
   "mimetype": "text/x-python",
   "name": "python",
   "nbconvert_exporter": "python",
   "pygments_lexer": "ipython3",
   "version": "3.11.8"
  }
 },
 "nbformat": 4,
 "nbformat_minor": 5
}
