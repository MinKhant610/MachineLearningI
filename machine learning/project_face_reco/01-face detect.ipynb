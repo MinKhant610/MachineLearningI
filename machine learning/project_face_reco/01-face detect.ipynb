{
 "cells": [
  {
   "cell_type": "markdown",
   "id": "cebc0cd1",
   "metadata": {},
   "source": [
    "# Resoure \n",
    "### https://github.com/opencv/opencv/tree/master/data/haarcascades"
   ]
  },
  {
   "cell_type": "code",
   "execution_count": 1,
   "id": "fc0e980b",
   "metadata": {},
   "outputs": [
    {
     "name": "stderr",
     "output_type": "stream",
     "text": [
      "[ WARN:0@0.220] global /private/var/folders/k1/30mswbxs7r1g6zwn8y4fyt500000gp/T/abs_11nitadzeg/croot/opencv-suite_1691620374638/work/modules/videoio/src/cap_gstreamer.cpp (862) isPipelinePlaying OpenCV | GStreamer warning: GStreamer: pipeline have not been created\n"
     ]
    }
   ],
   "source": [
    "import cv2 as cv\n",
    "import matplotlib.pylab as plt \n",
    "import numpy as np \n",
    "\n",
    "cap = cv.VideoCapture(0)\n",
    "face_cascade = cv.CascadeClassifier('./haarcascade_frontalface_alt.xml')\n",
    "\n",
    "while True:\n",
    "    ret, frame = cap.read()\n",
    "    gray = cv.cvtColor(frame, cv.COLOR_BGR2GRAY)\n",
    "    \n",
    "    if ret == False:\n",
    "        continue \n",
    "    \n",
    "    faces = face_cascade.detectMultiScale(gray, 1.35, 5)\n",
    "    \n",
    "    for (x, y, w, h) in faces:\n",
    "        cv.rectangle(frame, (x,y), (x+w, y+h), (255, 0, 0,), 2)\n",
    "        cv.rectangle(gray, (x,y), (x+w, y+h), (255, 54, 80), 2)\n",
    "    \n",
    "    cv.imshow('Frame', frame)\n",
    "    cv.imshow('Gray', gray)\n",
    "    \n",
    "    if cv.waitKey(1) == 27:\n",
    "        break\n",
    "cap.release()\n",
    "cv.destroyAllWindows()"
   ]
  },
  {
   "cell_type": "code",
   "execution_count": null,
   "id": "0580330b",
   "metadata": {},
   "outputs": [],
   "source": []
  }
 ],
 "metadata": {
  "kernelspec": {
   "display_name": "Python 3 (ipykernel)",
   "language": "python",
   "name": "python3"
  },
  "language_info": {
   "codemirror_mode": {
    "name": "ipython",
    "version": 3
   },
   "file_extension": ".py",
   "mimetype": "text/x-python",
   "name": "python",
   "nbconvert_exporter": "python",
   "pygments_lexer": "ipython3",
   "version": "3.11.8"
  }
 },
 "nbformat": 4,
 "nbformat_minor": 5
}
