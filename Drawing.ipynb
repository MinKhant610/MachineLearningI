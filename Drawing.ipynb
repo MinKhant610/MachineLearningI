{
 "cells": [
  {
   "cell_type": "code",
   "execution_count": null,
   "id": "e3ccdd29",
   "metadata": {},
   "outputs": [],
   "source": [
    "import numpy as np\n",
    "import cv2 as cv \n",
    "\n",
    "window = 'Drawing'\n",
    "img = np.zeros((512, 512, 3), np.uint8)\n",
    "cv.namedWindow(window)\n",
    "\n",
    "(ix, iy) = (-1, -1)\n",
    "\n",
    "drawing = False\n",
    "mode = True \n",
    "\n",
    "def draw(event, x, y, flags, params):\n",
    "    global mode, drawing, ix, iy\n",
    "    if event == cv.EVENT_LBUTTONDOWN:\n",
    "        drawing = True\n",
    "        (ix, iy) = (x, y)\n",
    "    elif event == cv.EVENT_MOUSEMOVE:\n",
    "        if drawing == True:\n",
    "            if mode == True:\n",
    "                cv.rectangle(img, (ix, iy), (x, y), (0, 255, 255), -1)\n",
    "            else:\n",
    "                cv.circle (img, (x,y) ,4 ,(0,255,0) ,-1)\n",
    "    elif event == cv.EVENT_LBUTTONUP:\n",
    "        drawing = False\n",
    "        \n",
    "cv.setMouseCallback(window, draw)\n",
    "\n",
    "def main():\n",
    "    global mode\n",
    "    while(True):\n",
    "        cv.imshow(window, img)\n",
    "        k = cv.waitKey(1)\n",
    "        \n",
    "        if k == ord('m') or k == ord('M'):\n",
    "            mode = not mode\n",
    "        elif k == 27:\n",
    "            break \n",
    "            \n",
    "    cv.destroyAllWindows()\n",
    "\n",
    "if __name__ == '__main__':\n",
    "    main()"
   ]
  },
  {
   "cell_type": "code",
   "execution_count": null,
   "id": "517deac2",
   "metadata": {},
   "outputs": [],
   "source": []
  },
  {
   "cell_type": "code",
   "execution_count": null,
   "id": "c1255f24",
   "metadata": {},
   "outputs": [],
   "source": []
  }
 ],
 "metadata": {
  "kernelspec": {
   "display_name": "Python 3 (ipykernel)",
   "language": "python",
   "name": "python3"
  },
  "language_info": {
   "codemirror_mode": {
    "name": "ipython",
    "version": 3
   },
   "file_extension": ".py",
   "mimetype": "text/x-python",
   "name": "python",
   "nbconvert_exporter": "python",
   "pygments_lexer": "ipython3",
   "version": "3.11.8"
  }
 },
 "nbformat": 4,
 "nbformat_minor": 5
}
