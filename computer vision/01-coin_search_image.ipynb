{
 "cells": [
  {
   "cell_type": "code",
   "execution_count": null,
   "id": "166ebf3b",
   "metadata": {},
   "outputs": [
    {
     "name": "stdout",
     "output_type": "stream",
     "text": [
      "195\n"
     ]
    }
   ],
   "source": [
    "import cv2 as cv \n",
    "import matplotlib.pyplot as plt \n",
    "import numpy as np\n",
    "\n",
    "def main():\n",
    "    img = cv.imread('images/crop_coins.jpg', 0)\n",
    "    img = cv.resize(img, None, fx=0.25, fy=0.25, interpolation=cv.INTER_LINEAR)\n",
    "    \n",
    "    block_size = 101\n",
    "    constant = 2\n",
    "    \n",
    "    #parm =>  src, max_val, adaptiveThresholdMethod, thresholdType, block_size, constant\n",
    "    th_img = cv.adaptiveThreshold(img, 255, cv.ADAPTIVE_THRESH_MEAN_C, cv.THRESH_BINARY, block_size, constant)\n",
    "    \n",
    "    #smoothing \n",
    "    medblur_img = cv.medianBlur(th_img, 3)\n",
    "    \n",
    "    #edge detect\n",
    "#     soble_img = cv.Sobel(medblur_img,  -1, 1, 0, ksize=5)\n",
    "    canny_img = cv.Canny(medblur_img, 100, 150, L2gradient=True) #good\n",
    "#     lap_img = cv.Laplacian(medblur_img, -1) #good \n",
    "\n",
    "    index, comp = cv.connectedComponents(canny_img)\n",
    "    print(index)\n",
    "    \n",
    "    cv.imshow('canny', canny_img)\n",
    "        \n",
    "    cv.waitKey(0)\n",
    "    cv.destroyAllWindows()\n",
    "\n",
    "if __name__ == '__main__':\n",
    "    main()\n"
   ]
  },
  {
   "cell_type": "code",
   "execution_count": null,
   "id": "bc75742f",
   "metadata": {},
   "outputs": [],
   "source": []
  }
 ],
 "metadata": {
  "kernelspec": {
   "display_name": "Python 3 (ipykernel)",
   "language": "python",
   "name": "python3"
  },
  "language_info": {
   "codemirror_mode": {
    "name": "ipython",
    "version": 3
   },
   "file_extension": ".py",
   "mimetype": "text/x-python",
   "name": "python",
   "nbconvert_exporter": "python",
   "pygments_lexer": "ipython3",
   "version": "3.11.8"
  }
 },
 "nbformat": 4,
 "nbformat_minor": 5
}
