{
 "cells": [
  {
   "cell_type": "code",
   "execution_count": 1,
   "id": "46ea4d21",
   "metadata": {},
   "outputs": [
    {
     "data": {
      "text/plain": [
       "array([[ 2.,  1.],\n",
       "       [98., 71.],\n",
       "       [73., 71.],\n",
       "       [52., 28.],\n",
       "       [40.,  8.],\n",
       "       [91., 35.],\n",
       "       [61., 59.],\n",
       "       [16., 61.],\n",
       "       [95., 53.],\n",
       "       [64., 14.],\n",
       "       [31., 41.],\n",
       "       [33., 87.],\n",
       "       [70., 50.],\n",
       "       [90., 83.],\n",
       "       [75., 42.],\n",
       "       [ 3.,  0.],\n",
       "       [71., 37.],\n",
       "       [ 9., 73.],\n",
       "       [68., 73.],\n",
       "       [46., 30.],\n",
       "       [65., 47.],\n",
       "       [26., 74.],\n",
       "       [17., 40.],\n",
       "       [85., 26.],\n",
       "       [69., 37.]], dtype=float32)"
      ]
     },
     "execution_count": 1,
     "metadata": {},
     "output_type": "execute_result"
    }
   ],
   "source": [
    "import cv2 as cv \n",
    "import numpy as np \n",
    "import matplotlib.pyplot as plt \n",
    "\n",
    "trainData = np.random.randint(0, 100, (25, 2)).astype(np.float32)\n",
    "trainData"
   ]
  },
  {
   "cell_type": "code",
   "execution_count": 4,
   "id": "ca0c0a33",
   "metadata": {
    "scrolled": false
   },
   "outputs": [
    {
     "data": {
      "text/plain": [
       "array([1., 0., 1., 1., 0., 1., 1., 0., 0., 0., 0., 0., 0., 1., 1., 1., 1.,\n",
       "       0., 0., 0., 0., 1., 1., 0., 1.], dtype=float32)"
      ]
     },
     "execution_count": 4,
     "metadata": {},
     "output_type": "execute_result"
    }
   ],
   "source": [
    "responses = np.random.randint(0, 2, (25, 1)).astype(np.float32)\n",
    "responses.ravel()"
   ]
  },
  {
   "cell_type": "code",
   "execution_count": 5,
   "id": "3cb9ca44",
   "metadata": {},
   "outputs": [
    {
     "data": {
      "text/plain": [
       "array([[98., 71.],\n",
       "       [40.,  8.],\n",
       "       [16., 61.],\n",
       "       [95., 53.],\n",
       "       [64., 14.],\n",
       "       [31., 41.],\n",
       "       [33., 87.],\n",
       "       [70., 50.],\n",
       "       [ 9., 73.],\n",
       "       [68., 73.],\n",
       "       [46., 30.],\n",
       "       [65., 47.],\n",
       "       [85., 26.]], dtype=float32)"
      ]
     },
     "execution_count": 5,
     "metadata": {},
     "output_type": "execute_result"
    }
   ],
   "source": [
    "red = trainData[responses.ravel() == 0]\n",
    "red"
   ]
  },
  {
   "cell_type": "code",
   "execution_count": 14,
   "id": "a2450fad",
   "metadata": {
    "scrolled": false
   },
   "outputs": [
    {
     "name": "stdout",
     "output_type": "stream",
     "text": [
      "result red\n",
      "neighboures : [[0. 1. 0.]]\n",
      "distance :  [[121. 202. 205.]]\n"
     ]
    },
    {
     "name": "stderr",
     "output_type": "stream",
     "text": [
      "/var/folders/m5/t3c7y3957793jrtg8_4sgwcc0000gn/T/ipykernel_8634/1321535701.py:13: DeprecationWarning: Conversion of an array with ndim > 0 to a scalar is deprecated, and will error in future. Ensure you extract a single element from your array before performing this operation. (Deprecated NumPy 1.25.)\n",
      "  print('result {}'.format( status[int (result) ]) )\n"
     ]
    },
    {
     "data": {
      "image/png": "[encoded data removed]",
      "text/plain": [
       "<Figure size 640x480 with 1 Axes>"
      ]
     },
     "metadata": {},
     "output_type": "display_data"
    }
   ],
   "source": [
    "blue = trainData[responses.ravel() == 1]\n",
    "plt.scatter(red[:, 0], red[:, 1], 80, 'r', '^')\n",
    "plt.scatter(blue[:, 0], blue[:, 1], 80, 'b', 's')\n",
    "\n",
    "newcomer = np.random.randint(0, 100, (1, 2)).astype(np.float32)\n",
    "plt.scatter(newcomer[:, 0], newcomer[:, 1], 80, 'g', 'o')\n",
    "\n",
    "knn = cv.ml.KNearest_create()\n",
    "knn.train(trainData, cv.ml.ROW_SAMPLE, responses)\n",
    "ret, result, neighbours, dist = knn.findNearest(newcomer, 3)\n",
    "\n",
    "status = ['red', 'blue']\n",
    "print('result {}'.format( status[int (result) ]) )\n",
    "print('neighboures :', neighbours)\n",
    "print('distance : ', dist)\n",
    "plt.show()"
   ]
  },
  {
   "cell_type": "code",
   "execution_count": null,
   "id": "53e0835e",
   "metadata": {},
   "outputs": [],
   "source": []
  }
 ],
 "metadata": {
  "kernelspec": {
   "display_name": "Python 3 (ipykernel)",
   "language": "python",
   "name": "python3"
  },
  "language_info": {
   "codemirror_mode": {
    "name": "ipython",
    "version": 3
   },
   "file_extension": ".py",
   "mimetype": "text/x-python",
   "name": "python",
   "nbconvert_exporter": "python",
   "pygments_lexer": "ipython3",
   "version": "3.11.8"
  }
 },
 "nbformat": 4,
 "nbformat_minor": 5
}
