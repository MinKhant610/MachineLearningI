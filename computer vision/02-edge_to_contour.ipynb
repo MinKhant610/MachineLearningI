{
 "cells": [
  {
   "cell_type": "code",
   "execution_count": null,
   "id": "a737a0d3",
   "metadata": {},
   "outputs": [
    {
     "name": "stdout",
     "output_type": "stream",
     "text": [
      "Total coins :  31\n"
     ]
    }
   ],
   "source": [
    "import cv2 as cv \n",
    "import matplotlib.pyplot as plt \n",
    "\n",
    "def main():\n",
    "    img = cv.imread('images/star.jpeg')\n",
    "    gray = cv.cvtColor(img, cv.COLOR_BGR2GRAY)\n",
    "    img = cv.resize(img, None, fx=0.25, fy=0.25, interpolation=cv.INTER_LINEAR)\n",
    "    gray = cv.resize(gray, None, fx=0.25, fy=0.25, interpolation=cv.INTER_LINEAR)\n",
    "    \n",
    "    \n",
    "    blk_size = 101\n",
    "    constant = 2 \n",
    "    \n",
    "    th_img = cv.adaptiveThreshold(gray, 255, cv.ADAPTIVE_THRESH_MEAN_C, cv.THRESH_BINARY, blk_size, constant)\n",
    "    \n",
    "    blur = cv.medianBlur(th_img, 3)\n",
    "    \n",
    "    canny_img = cv.Canny(blur, 100, 150, L2gradient=True)\n",
    "    \n",
    "    cv.imshow('Canny', canny_img)\n",
    "    \n",
    "    (counts, _) = cv.findContours(canny_img.copy(), cv.RETR_EXTERNAL, cv.CHAIN_APPROX_SIMPLE)\n",
    "    \n",
    "    print('Total coins : ', len(counts))\n",
    "    \n",
    "    contour = img.copy()\n",
    "    cv.drawContours(contour, counts, -1 , (0, 0, 255), 2)\n",
    "    cv.imshow('coins', contour)\n",
    "    \n",
    "    cv.waitKey(0)\n",
    "    cv.destroyAllWindows()\n",
    "\n",
    "if __name__ == '__main__':\n",
    "    main()"
   ]
  },
  {
   "cell_type": "code",
   "execution_count": null,
   "id": "2d2a97d5",
   "metadata": {},
   "outputs": [],
   "source": []
  }
 ],
 "metadata": {
  "kernelspec": {
   "display_name": "Python 3 (ipykernel)",
   "language": "python",
   "name": "python3"
  },
  "language_info": {
   "codemirror_mode": {
    "name": "ipython",
    "version": 3
   },
   "file_extension": ".py",
   "mimetype": "text/x-python",
   "name": "python",
   "nbconvert_exporter": "python",
   "pygments_lexer": "ipython3",
   "version": "3.11.8"
  }
 },
 "nbformat": 4,
 "nbformat_minor": 5
}
