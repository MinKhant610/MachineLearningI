{
 "cells": [
  {
   "cell_type": "markdown",
   "id": "c069fe2e",
   "metadata": {},
   "source": [
    "# OpenCV Mouse Events"
   ]
  },
  {
   "cell_type": "code",
   "execution_count": 5,
   "id": "fdd0c867",
   "metadata": {},
   "outputs": [
    {
     "name": "stdout",
     "output_type": "stream",
     "text": [
      "['EVENT_FLAG_ALTKEY', 'EVENT_FLAG_CTRLKEY', 'EVENT_FLAG_LBUTTON', 'EVENT_FLAG_MBUTTON', 'EVENT_FLAG_RBUTTON', 'EVENT_FLAG_SHIFTKEY', 'EVENT_LBUTTONDBLCLK', 'EVENT_LBUTTONDOWN', 'EVENT_LBUTTONUP', 'EVENT_MBUTTONDBLCLK', 'EVENT_MBUTTONDOWN', 'EVENT_MBUTTONUP', 'EVENT_MOUSEHWHEEL', 'EVENT_MOUSEMOVE', 'EVENT_MOUSEWHEEL', 'EVENT_RBUTTONDBLCLK', 'EVENT_RBUTTONDOWN', 'EVENT_RBUTTONUP']\n"
     ]
    }
   ],
   "source": [
    "import cv2 as cv \n",
    "\n",
    "def main():\n",
    "    events = [i for i in dir(cv) if 'EVENT' in i]\n",
    "    print (events)\n",
    "    \n",
    "    \n",
    "if __name__ == '__main__':\n",
    "    main()"
   ]
  },
  {
   "cell_type": "code",
   "execution_count": null,
   "id": "e6d57e11",
   "metadata": {},
   "outputs": [],
   "source": [
    "import numpy as np\n",
    "import cv2 as cv\n",
    "\n",
    "img = np.zeros((512, 512, 3), np.uint8)\n",
    "window = 'Drawing'\n",
    "cv.namedWindow(window)\n",
    "\n",
    "\n",
    "def drawCircle(event, x, y, flags, param):\n",
    "    if event == cv.EVENT_LBUTTONDBLCLK:\n",
    "        cv.circle(img, (x, y), 40, (0, 255, 0), 1)\n",
    "    elif event == cv.EVENT_MBUTTONDOWN:\n",
    "        cv.circle(img, (x, y), 40, (0, 0, 255), -1)\n",
    "\n",
    "cv.setMouseCallback(window, drawCircle)\n",
    "\n",
    "def main():\n",
    "\n",
    "    while True:\n",
    "\n",
    "        cv.imshow(window, img)\n",
    "        if cv.waitKey(1) == 27:\n",
    "            break\n",
    "    cv.destroyAllWindows()\n",
    "\n",
    "\n",
    "if __name__ == '__main__':\n",
    "    main()"
   ]
  },
  {
   "cell_type": "code",
   "execution_count": null,
   "id": "46aa97a9",
   "metadata": {},
   "outputs": [],
   "source": []
  }
 ],
 "metadata": {
  "kernelspec": {
   "display_name": "Python 3 (ipykernel)",
   "language": "python",
   "name": "python3"
  },
  "language_info": {
   "codemirror_mode": {
    "name": "ipython",
    "version": 3
   },
   "file_extension": ".py",
   "mimetype": "text/x-python",
   "name": "python",
   "nbconvert_exporter": "python",
   "pygments_lexer": "ipython3",
   "version": "3.11.8"
  }
 },
 "nbformat": 4,
 "nbformat_minor": 5
}
