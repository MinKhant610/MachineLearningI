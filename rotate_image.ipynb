{
 "cells": [
  {
   "cell_type": "code",
   "execution_count": null,
   "id": "8ec68ff8",
   "metadata": {},
   "outputs": [],
   "source": [
    "import cv2 as cv\n",
    "import time \n",
    "\n",
    "def main():\n",
    "    img = cv.imread('images/4.2.01.tiff')\n",
    "    \n",
    "    row, col, ch = img.shape\n",
    "    \n",
    "    angle = 0\n",
    "    \n",
    "    while True:\n",
    "        if angle == 360:\n",
    "            angle = 0\n",
    "        R = cv.getRotationMatrix2D((col/2, row/2), angle, 0.5)\n",
    "        \n",
    "        output = cv.warpAffine(img, R, (col, row))\n",
    "        \n",
    "        cv.imshow('Rotation', output)\n",
    "        angle = angle + 1\n",
    "        time.sleep(0.01)\n",
    "        \n",
    "        if cv.waitKey(1) == 27:\n",
    "            break \n",
    "        \n",
    "        \n",
    "    cv.destrotyAllWindows()\n",
    "\n",
    "\n",
    "if __name__ == '__main__':\n",
    "    main()"
   ]
  },
  {
   "cell_type": "code",
   "execution_count": null,
   "id": "9f21b61c",
   "metadata": {},
   "outputs": [],
   "source": []
  }
 ],
 "metadata": {
  "kernelspec": {
   "display_name": "Python 3 (ipykernel)",
   "language": "python",
   "name": "python3"
  },
  "language_info": {
   "codemirror_mode": {
    "name": "ipython",
    "version": 3
   },
   "file_extension": ".py",
   "mimetype": "text/x-python",
   "name": "python",
   "nbconvert_exporter": "python",
   "pygments_lexer": "ipython3",
   "version": "3.11.8"
  }
 },
 "nbformat": 4,
 "nbformat_minor": 5
}
