{
 "cells": [
  {
   "cell_type": "code",
   "execution_count": null,
   "id": "3e89dfcc",
   "metadata": {},
   "outputs": [
    {
     "name": "stderr",
     "output_type": "stream",
     "text": [
      "[ WARN:0@0.208] global /private/var/folders/k1/30mswbxs7r1g6zwn8y4fyt500000gp/T/abs_11nitadzeg/croot/opencv-suite_1691620374638/work/modules/videoio/src/cap_gstreamer.cpp (862) isPipelinePlaying OpenCV | GStreamer warning: GStreamer: pipeline have not been created\n"
     ]
    }
   ],
   "source": [
    "import cv2 as cv \n",
    "import matplotlib.pyplot as plt \n",
    "import time \n",
    "\n",
    "def main():\n",
    "    cap = cv.VideoCapture(0)\n",
    "    \n",
    "    name = 'Rotate Webcam'\n",
    "    cv.namedWindow(name)\n",
    "    \n",
    "    if cap.isOpened():\n",
    "        ret, frame = cap.read()\n",
    "    else :\n",
    "        ret = False \n",
    "        \n",
    "    row, col, ch = frame.shape\n",
    "    \n",
    "    angle = 0\n",
    "    scale = 1\n",
    "    \n",
    "        \n",
    "    while (ret):\n",
    "        ret, frame = cap.read()\n",
    "        \n",
    "        if angle == 360:\n",
    "            angle = 0\n",
    "            \n",
    "        R = cv.getRotationMatrix2D((20, 20), angle, scale)\n",
    "        \n",
    "        output = cv.warpAffine(frame, R, (col, row))\n",
    "        cv.imshow(name, output)\n",
    "        angle = angle + 1\n",
    "        \n",
    "        time.sleep(0.01)\n",
    "        \n",
    "        if cv.waitKey(1) == 27:\n",
    "            break\n",
    "    cv.release()\n",
    "    cv.destroyAllWindows()\n",
    "\n",
    "if __name__ == '__main__':\n",
    "    main()"
   ]
  },
  {
   "cell_type": "code",
   "execution_count": null,
   "id": "db4a1180",
   "metadata": {},
   "outputs": [],
   "source": []
  }
 ],
 "metadata": {
  "kernelspec": {
   "display_name": "Python 3 (ipykernel)",
   "language": "python",
   "name": "python3"
  },
  "language_info": {
   "codemirror_mode": {
    "name": "ipython",
    "version": 3
   },
   "file_extension": ".py",
   "mimetype": "text/x-python",
   "name": "python",
   "nbconvert_exporter": "python",
   "pygments_lexer": "ipython3",
   "version": "3.11.8"
  }
 },
 "nbformat": 4,
 "nbformat_minor": 5
}
