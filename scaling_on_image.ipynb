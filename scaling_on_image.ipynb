{
 "cells": [
  {
   "cell_type": "code",
   "execution_count": null,
   "id": "5f067306",
   "metadata": {},
   "outputs": [],
   "source": [
    "import cv2 as cv \n",
    "import matplotlib.pyplot as plt\n",
    "\n",
    "def main():\n",
    "    img = cv.imread('images/lena_color_512.tif')\n",
    "    \n",
    "    linear = cv.resize(img, None, fx=1, fy=1.5, interpolation=cv.INTER_LINEAR)\n",
    "    cubic = cv.resize(img, None, fx=1, fy=1.5, interpolation=cv.INTER_CUBIC)\n",
    "    area = cv.resize(img, None, fx=1.5, fy=1.0, interpolation=cv.INTER_AREA)\n",
    "    nearest = cv.resize(img, None, fx=0.5, fy=0.5, interpolation=cv.INTER_NEAREST)\n",
    "    \n",
    "    cv.imshow('lena', img)\n",
    "    cv.imshow('linear', linear)\n",
    "    cv.imshow('cubic', cubic)\n",
    "    cv.imshow('area', area)\n",
    "    cv.imshow('nearest', nearest)\n",
    "    \n",
    "    if cv.waitKey(0) == 27:\n",
    "        cv.destroyAllWindows()\n",
    "\n",
    "if __name__ == '__main__':\n",
    "    main()"
   ]
  },
  {
   "cell_type": "code",
   "execution_count": null,
   "id": "d0abf8e3",
   "metadata": {},
   "outputs": [],
   "source": []
  }
 ],
 "metadata": {
  "kernelspec": {
   "display_name": "Python 3 (ipykernel)",
   "language": "python",
   "name": "python3"
  },
  "language_info": {
   "codemirror_mode": {
    "name": "ipython",
    "version": 3
   },
   "file_extension": ".py",
   "mimetype": "text/x-python",
   "name": "python",
   "nbconvert_exporter": "python",
   "pygments_lexer": "ipython3",
   "version": "3.11.8"
  }
 },
 "nbformat": 4,
 "nbformat_minor": 5
}
